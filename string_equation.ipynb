{
 "cells": [
  {
   "cell_type": "code",
   "execution_count": 3,
   "metadata": {},
   "outputs": [
    {
     "name": "stdout",
     "output_type": "stream",
     "text": [
      " string\n"
     ]
    }
   ],
   "source": [
    "text = \"we are learning python string operation\" #collection/iterable => iterate/iteration\n",
    "#indexing\n",
    "# how we can get individual item/chracter from the collection/string through indexing.\n",
    "\n",
    "#indexing\n",
    "# letter_string = text[-2]\n",
    "# print(letter_string)\n",
    "#slicing\n",
    "# text[smaller_index : greater_index]\n",
    "# sub_string = text[5:4]\n",
    "positvie_sub_string = text[23:29]\n",
    "negative_sub_string = text[-17:-10]\n",
    "# string_index = text.index(\"string\")\n",
    "print(negative_sub_string)"
   ]
  },
  {
   "cell_type": "code",
   "execution_count": 3,
   "metadata": {},
   "outputs": [
    {
     "name": "stdout",
     "output_type": "stream",
     "text": [
      "richa\n",
      "40\n",
      "[40, 50, 60, 70]\n"
     ]
    }
   ],
   "source": [
    "#indexing\n",
    "name = \"alex richard\"\n",
    "name[3]\n",
    "name[-2]\n",
    "print(name[5:10])\n",
    "nums = [10,20,30,40,50,60,70]\n",
    "print(nums[3])\n",
    "print(nums[3:])\n",
    "# string\n",
    "# list\n",
    "# tuple\n",
    "# set\n"
   ]
  }
 ],
 "metadata": {
  "kernelspec": {
   "display_name": "Python 3",
   "language": "python",
   "name": "python3"
  },
  "language_info": {
   "codemirror_mode": {
    "name": "ipython",
    "version": 3
   },
   "file_extension": ".py",
   "mimetype": "text/x-python",
   "name": "python",
   "nbconvert_exporter": "python",
   "pygments_lexer": "ipython3",
   "version": "3.12.3"
  }
 },
 "nbformat": 4,
 "nbformat_minor": 2
}
