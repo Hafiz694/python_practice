{
 "cells": [
  {
   "cell_type": "code",
   "execution_count": null,
   "metadata": {},
   "outputs": [],
   "source": [
    "#varibles\n",
    "var_int = 12\n",
    "var_int_tnput = int(input(\"enter your integer value\"))\n",
    "print(var_int, var_int_input, type(var_int), type(var))"
   ]
  }
 ],
 "metadata": {
  "language_info": {
   "name": "python"
  }
 },
 "nbformat": 4,
 "nbformat_minor": 2
}
